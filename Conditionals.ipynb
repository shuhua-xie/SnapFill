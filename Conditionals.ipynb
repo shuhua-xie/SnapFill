{
 "cells": [
  {
   "cell_type": "markdown",
   "metadata": {},
   "source": [
    "create all individual IDG with IDS\n",
    "\n",
    "loop:\n",
    "\n",
    "\n",
    "\n",
    "\n",
    "\n",
    "loop: \n",
    "    - create a ranking of similarities between IDG\n",
    "    \n",
    "    loop: \n",
    "        IDGS to combine = next most similar IDGS\n",
    "        \n",
    "        if NONE:\n",
    "            return all IDGS\n",
    "            \n",
    "        temp = intersect IDGS to combine\n",
    "        \n",
    "        build new DAG for IDGS with given ids\n",
    "        \n",
    "        if there is a solution\n",
    "            get rid of other IDGS\n",
    "            add temp\n",
    "            break"
   ]
  },
  {
   "cell_type": "code",
   "execution_count": 30,
   "metadata": {},
   "outputs": [],
   "source": [
    "from InputDataGraph import *\n",
    "\n",
    "hello = []\n",
    "\n",
    "hello.append((\"zoo\",1))\n",
    "hello.append((\"test\",2))\n",
    "hello.append((\"test\",2))"
   ]
  },
  {
   "cell_type": "code",
   "execution_count": 31,
   "metadata": {},
   "outputs": [],
   "source": [
    "test = [hello[i] for i in range(len(hello)) if hello[i][1] != 1]"
   ]
  },
  {
   "cell_type": "code",
   "execution_count": 32,
   "metadata": {},
   "outputs": [],
   "source": [
    "hello.sort()"
   ]
  },
  {
   "cell_type": "code",
   "execution_count": 33,
   "metadata": {},
   "outputs": [
    {
     "data": {
      "text/plain": [
       "[('test', 2), ('test', 2), ('zoo', 1)]"
      ]
     },
     "execution_count": 33,
     "metadata": {},
     "output_type": "execute_result"
    }
   ],
   "source": [
    "hello"
   ]
  },
  {
   "cell_type": "code",
   "execution_count": 5,
   "metadata": {},
   "outputs": [],
   "source": [
    "myInput = [\"Ethan Nagola\", \"Bob Ross\", \"Michael Jordan\"]\n",
    "myOutput = [\"Nagola\",\"Ross\",\"Jordan\"]\n",
    "\n",
    "import InputDataGraph as IDG\n",
    "\n",
    "IDGS = []\n",
    "\n",
    "IDGS.append(IDG.InputDataGraph(myInput[0],0))\n",
    "IDGS.append(IDG.InputDataGraph(myInput[1],1))\n",
    "IDGS.append(IDG.InputDataGraph(myInput[2],2))"
   ]
  },
  {
   "cell_type": "code",
   "execution_count": 6,
   "metadata": {},
   "outputs": [
    {
     "name": "stdout",
     "output_type": "stream",
     "text": [
      "[<InputDataGraph.InputDataGraph object at 0x1027dc748>, <InputDataGraph.InputDataGraph object at 0x1027dc710>, <InputDataGraph.InputDataGraph object at 0x1027f0f98>]\n"
     ]
    }
   ],
   "source": [
    "print(IDGS)\n",
    "IDGS.sort()"
   ]
  },
  {
   "cell_type": "code",
   "execution_count": 17,
   "metadata": {},
   "outputs": [
    {
     "name": "stdout",
     "output_type": "stream",
     "text": [
      "2\n"
     ]
    }
   ],
   "source": [
    "ids = next(iter(IDGS[2].nodes)).ids()\n",
    "print(ids[0])"
   ]
  },
  {
   "cell_type": "code",
   "execution_count": 20,
   "metadata": {},
   "outputs": [],
   "source": [
    "pairs = [(1,\"hello\"),(2,\"hi\"),(3,None)]"
   ]
  },
  {
   "cell_type": "code",
   "execution_count": 33,
   "metadata": {},
   "outputs": [
    {
     "data": {
      "text/plain": [
       "False"
      ]
     },
     "execution_count": 33,
     "metadata": {},
     "output_type": "execute_result"
    }
   ],
   "source": [
    "None not in list(zip(*pairs))[1]\n"
   ]
  },
  {
   "cell_type": "code",
   "execution_count": null,
   "metadata": {},
   "outputs": [],
   "source": []
  }
 ],
 "metadata": {
  "kernelspec": {
   "display_name": "Python 3",
   "language": "python",
   "name": "python3"
  },
  "language_info": {
   "codemirror_mode": {
    "name": "ipython",
    "version": 3
   },
   "file_extension": ".py",
   "mimetype": "text/x-python",
   "name": "python",
   "nbconvert_exporter": "python",
   "pygments_lexer": "ipython3",
   "version": "3.7.3"
  }
 },
 "nbformat": 4,
 "nbformat_minor": 4
}
