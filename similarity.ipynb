{
 "cells": [
  {
   "cell_type": "code",
   "execution_count": 2,
   "metadata": {},
   "outputs": [],
   "source": [
    "from InputDataGraph import *\n",
    "\n",
    "def getSize(IDG):\n",
    "    return 10\n",
    "\n",
    "def getSimilarity(IDG1, IDG2):\n",
    "    size1 = getSize(IDG1)\n",
    "    size2 = getSize(IDG2)\n",
    "    tempIDG = IDG1.intersect(IDG2)\n",
    "    \n",
    "    sizeNew = getSize(tempIDG)\n",
    "    \n",
    "    return sizeNew/(size1+size2)"
   ]
  },
  {
   "cell_type": "code",
   "execution_count": null,
   "metadata": {},
   "outputs": [],
   "source": []
  }
 ],
 "metadata": {
  "kernelspec": {
   "display_name": "Python 3",
   "language": "python",
   "name": "python3"
  },
  "language_info": {
   "codemirror_mode": {
    "name": "ipython",
    "version": 3
   },
   "file_extension": ".py",
   "mimetype": "text/x-python",
   "name": "python",
   "nbconvert_exporter": "python",
   "pygments_lexer": "ipython3",
   "version": "3.7.3"
  }
 },
 "nbformat": 4,
 "nbformat_minor": 4
}
